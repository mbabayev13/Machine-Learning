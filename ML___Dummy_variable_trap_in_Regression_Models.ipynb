{
  "nbformat": 4,
  "nbformat_minor": 0,
  "metadata": {
    "colab": {
      "provenance": []
    },
    "kernelspec": {
      "name": "python3",
      "display_name": "Python 3"
    },
    "language_info": {
      "name": "python"
    }
  },
  "cells": [
    {
      "cell_type": "markdown",
      "source": [
        "Before learning about the dummy variable trap, let’s first understand what actually dummy variable is.\n",
        "\n",
        "**Dummy Variable in Regression Models**:\n",
        "In statistics, especially in regression models, we deal with various kinds of data. The data may be quantitative (numerical) or qualitative (categorical). The numerical data can be easily handled in regression models but we can’t use categorical data directly, it needs to be transformed in some way.\n",
        "\n",
        "For transforming categorical attributes to numerical attributes, we can use the label encoding procedure (label encoding assigns a unique integer to each category of data). But this procedure is not alone that suitable, hence, **One hot encoding** is used in regression models following label encoding. This enables us to create new attributes according to the number of classes present in the categorical attribute i.e if there are n number of categories in categorical attribute, n new attributes will be created. These attributes created are called **Dummy Variables**. Hence, dummy variables are “proxy” variables for categorical data in regression models.\n"
      ],
      "metadata": {
        "id": "fSKjTRL-kZtq"
      }
    },
    {
      "cell_type": "markdown",
      "source": [
        "These dummy variables will be created with one-hot encoding and each attribute will have a value of either 0 or 1, representing the presence or absence of that attribute.\n",
        "\n"
      ],
      "metadata": {
        "id": "u95EY7yMkl-a"
      }
    },
    {
      "cell_type": "markdown",
      "source": [
        "**Dummy Variable Trap**:\n",
        "\n",
        "The Dummy variable trap is a scenario where there are attributes that are highly correlated (Multicollinear) and one variable predicts the value of others. When we use *one-hot encoding* for handling the categorical data, then one dummy variable (attribute) can be predicted with the help of other dummy variables. Hence, one dummy variable is highly correlated with other dummy variables. Using all dummy variables for regression models leads to a **dummy variable trap**. So, the regression models should be designed to exclude one dummy variable.\n",
        "\n"
      ],
      "metadata": {
        "id": "QPOdHT8nkoQg"
      }
    },
    {
      "cell_type": "markdown",
      "source": [
        "**For Example – **\n",
        "\n",
        "Let’s consider the case of gender having two values *male* (0 or 1) and *female* (1 or 0). Including both the dummy variable can cause redundancy because if a person is not male in such case that person is a female, hence, we don’t need to use both the variables in regression models. This will protect us from the dummy variable trap.\n"
      ],
      "metadata": {
        "id": "Dn6uJ2SFkzIu"
      }
    },
    {
      "cell_type": "code",
      "execution_count": null,
      "metadata": {
        "id": "fBdNNuI9kV6_"
      },
      "outputs": [],
      "source": []
    }
  ]
}